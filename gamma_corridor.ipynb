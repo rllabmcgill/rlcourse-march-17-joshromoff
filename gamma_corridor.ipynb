{
 "cells": [
  {
   "cell_type": "markdown",
   "metadata": {},
   "source": [
    "For my assignment this week I wanted to play with Gamma in a simple corridor domain. This work is motivated by \"CITE\". \n",
    "\n",
    "Domain:\n",
    "The corridor has 10 states in it and the agent starts at the second index. The agent has 3 actions [left, right, exit]. If the agent chooses to exit it receives a 0 reward and the episode terminates. Otherwise the agent receives a -.1 reward at each time step until it reaches the end of the corridor where it receives a +.5 reward if it reaches the left end of the corridor or a +2 reward if it reaches the right end (futher away). \n",
    "\n",
    "Optimal Policy?:\n",
    "One can see that by varying gamma we produce different optimal behavior. For example say the corridor is of length 5 the value of exiting the corridor immediately is 0 and the value of going right until the end is (10 * gamma ^ 4) + (-1 + -1 * gamma + -1 * gamma ^ 2 + -1 * gamma ^ 3). By solving for gamma what our agent deems as optimal really depends on gamma.   \n",
    "\n",
    "Now say we have a target gamma in mind before we start the experiment, say it is 0.9. "
   ]
  },
  {
   "cell_type": "code",
   "execution_count": 1,
   "metadata": {
    "collapsed": false
   },
   "outputs": [],
   "source": [
    "import numpy as np\n",
    "\n",
    "class Corridor(object):\n",
    "    def __init__(self, num_states=20, max_steps=50):\n",
    "        self.num_states = num_states\n",
    "        self.state_shape = [num_states]\n",
    "        self.nb_actions = 3\n",
    "        self.state = np.zeros((num_states), dtype='float32')\n",
    "        self.max_steps = max_steps\n",
    "        self.start_pos = 1\n",
    "        self.counter = 0\n",
    "        \n",
    "    def observe(self):\n",
    "        return np.copy(self.state) #+ np.random.normal(0, 0.25, self.num_states)\n",
    "\n",
    "    def _is_over(self, action):\n",
    "        # exit or max number of steps\n",
    "        # or \\\n",
    "        # self.state[self.num_states - 1] == 1 or \\\n",
    "        # self.state[0] == 1\n",
    "        return action == 2 or self.counter >= self.max_steps \n",
    "\n",
    "        \n",
    "    def _update_state(self, action):\n",
    "        # no-op\n",
    "        if (action == 0 and self.pos == 0) or (action == 1 and self.pos == self.num_states - 1):  \n",
    "            pass\n",
    "        elif action == 0:  # move left\n",
    "            self.state = np.zeros((self.num_states), dtype='float32')\n",
    "            self.state[self.pos - 1] = 1\n",
    "            self.pos -= 1\n",
    "        elif action == 1:  # move right\n",
    "            self.state = np.zeros((self.num_states), dtype='float32')\n",
    "            self.state[self.pos + 1] = 1\n",
    "            self.pos += 1\n",
    "        elif action == 2:\n",
    "            self.state = np.zeros((self.num_states), dtype='float32')\n",
    "    \n",
    "    def _get_reward(self, action):\n",
    "        if action == 2:\n",
    "            if self.pos == 0:\n",
    "                reward = 3\n",
    "            elif self.pos == self.num_states - 1:\n",
    "                reward = 4\n",
    "            else:\n",
    "                reward = - 2 * (self.pos - self.start_pos)\n",
    "        else:\n",
    "            reward = 0.0\n",
    "        return reward\n",
    "    \n",
    "    def act(self, action):\n",
    "        assert action == 0 or action == 1 or action == 2\n",
    "        reward = self._get_reward(action)\n",
    "        self._update_state(action)\n",
    "        game_over = self._is_over(action)\n",
    "        self.counter += 1\n",
    "        # #  \n",
    "        return np.copy(self.state), reward, game_over\n",
    "        \n",
    "    def reset(self):\n",
    "        self.state = np.zeros((self.num_states), dtype='float32')\n",
    "        self.state[self.start_pos] = 1\n",
    "        self.pos = self.start_pos\n",
    "        self.counter = 0"
   ]
  },
  {
   "cell_type": "code",
   "execution_count": 2,
   "metadata": {
    "collapsed": false
   },
   "outputs": [],
   "source": [
    "\"\"\"\n",
    "    Tabular Q agent\n",
    "\"\"\"\n",
    "\n",
    "class Agent(object):\n",
    "    def __init__(self, state_shape, nb_actions, gamma, lr=1.0):\n",
    "        self.state_shape = state_shape\n",
    "        self.nb_actions = nb_actions\n",
    "        self.gamma = gamma\n",
    "        self.lr = lr\n",
    "        self.table = np.ones((state_shape[0], nb_actions)) * 4\n",
    "    \n",
    "    def _predict(self, state):\n",
    "        return self.table[np.argmax(state[0])]\n",
    "    \n",
    "    def _train(self, sarst):\n",
    "        s, a, r, s2, t = sarst\n",
    "        q = self.table[np.argmax(s)][a]\n",
    "        target = r + (1 - t) * self.gamma * np.max(self.table[np.argmax(s2)])\n",
    "        self.table[np.argmax(s)][a] += self.lr * (target - q)\n",
    "\n",
    "    def get_action(self, state, epsilon):\n",
    "        if np.random.binomial(1, epsilon):\n",
    "            return np.random.randint(self.nb_actions)\n",
    "        else:\n",
    "            q = self._predict([state])\n",
    "            return np.argmax(q)\n",
    "\n",
    "    def learn(self, s, a, r, s2, t):\n",
    "        return self._train([s, a, r, s2, t])"
   ]
  },
  {
   "cell_type": "code",
   "execution_count": 3,
   "metadata": {
    "collapsed": false,
    "scrolled": true
   },
   "outputs": [],
   "source": [
    "\"\"\"\n",
    "    Global imports and variables\n",
    "\"\"\"\n",
    "\n",
    "%matplotlib inline\n",
    "\n",
    "import numpy as np\n",
    "import seaborn\n",
    "import pickle\n",
    "\n",
    "nb_runs_each = 10\n",
    "nb_episodes = 50\n",
    "gammas = [0.5, 0.99]\n",
    "epsilon = 0.0"
   ]
  },
  {
   "cell_type": "code",
   "execution_count": 4,
   "metadata": {
    "collapsed": false
   },
   "outputs": [],
   "source": [
    "\"\"\"\n",
    "    Runs each agent defined by a particular gamma -\n",
    "    for a fixed number of episodes (\"nb_episodes\"). \n",
    "    Each run is repeated \"nb_runs_each\" times to compute some measure of variance.\n",
    "\"\"\"\n",
    "\n",
    "env = Corridor()\n",
    "agents = [Agent(env.state_shape, env.nb_actions, gamma) for gamma in gammas]\n",
    "all_agent_cumul_rewards = np.empty((nb_runs_each, nb_episodes, len(agents)))\n",
    "all_agent_ep_rewards = np.empty((nb_runs_each, nb_episodes, len(agents)))\n",
    "\n",
    "def do_episode(env, agent, epsilon=1.0, learn=True):\n",
    "    env.reset()\n",
    "    terminal = False\n",
    "    reward = 0\n",
    "    actions = []\n",
    "    discount = 1\n",
    "    gamma = 0.99\n",
    "    while not terminal:\n",
    "        s = env.observe()\n",
    "        a = agent.get_action(s, epsilon=epsilon)\n",
    "        s2, r, terminal = env.act(a)\n",
    "        if learn:\n",
    "            agent.learn(s, a, r, s2, terminal)\n",
    "        reward += r * discount\n",
    "        discount *= gamma\n",
    "        actions.append(a)\n",
    "    return reward, actions\n",
    "    \n",
    "for agent_index, agent in enumerate(agents):\n",
    "    for run in range(nb_runs_each):\n",
    "        cumul_rewards = 0\n",
    "        for ep in range(nb_episodes):\n",
    "            ep_reward, _ = do_episode(env, agent, epsilon, learn=True)\n",
    "            cumul_rewards += ep_reward\n",
    "            all_agent_cumul_rewards[run, ep, agent_index] = cumul_rewards\n",
    "            all_agent_ep_rewards[run, ep, agent_index] = ep_reward\n",
    "            \n",
    "with open('cumul_rewards', 'wb') as f:\n",
    "    pickle.dump(all_agent_cumul_rewards, f)\n",
    "with open('ep_rewards', 'wb') as f:\n",
    "    pickle.dump(all_agent_ep_rewards, f)"
   ]
  },
  {
   "cell_type": "code",
   "execution_count": 5,
   "metadata": {
    "collapsed": false
   },
   "outputs": [
    {
     "data": {
      "text/plain": [
       "<matplotlib.text.Text at 0x1eb5dc12630>"
      ]
     },
     "execution_count": 5,
     "metadata": {},
     "output_type": "execute_result"
    },
    {
     "data": {
      "image/png": "[encoded data removed]",
      "text/plain": [
       "<matplotlib.figure.Figure at 0x1eb5a98c710>"
      ]
     },
     "metadata": {},
     "output_type": "display_data"
    }
   ],
   "source": [
    "with open('cumul_rewards', 'rb') as f:\n",
    "     all_agent_cumul_rewards = pickle.load(f)\n",
    "\n",
    "plot = seaborn.tsplot(data=all_agent_cumul_rewards, legend=True, condition=gammas)\n",
    "plot.legend(loc='lower left', title='Gamma')\n",
    "plot.set_ylabel(\"Cummulative Reward\")\n",
    "plot.set_xlabel(\"Number of Episodes\")"
   ]
  },
  {
   "cell_type": "code",
   "execution_count": 6,
   "metadata": {
    "collapsed": false
   },
   "outputs": [
    {
     "data": {
      "text/plain": [
       "<matplotlib.text.Text at 0x1eb5dce8dd8>"
      ]
     },
     "execution_count": 6,
     "metadata": {},
     "output_type": "execute_result"
    },
    {
     "data": {
      "image/png": "[encoded data removed]",
      "text/plain": [
       "<matplotlib.figure.Figure at 0x1eb5ad34518>"
      ]
     },
     "metadata": {},
     "output_type": "display_data"
    }
   ],
   "source": [
    "with open('ep_rewards', 'rb') as f:\n",
    "     all_agent_ep_rewards = pickle.load(f)\n",
    "        \n",
    "plot = seaborn.tsplot(data=all_agent_ep_rewards, legend=True, condition=gammas)\n",
    "plot.legend(loc='lower left', title='Gamma')\n",
    "plot.set_ylabel(\"Discounted Episode Reward\")\n",
    "plot.set_xlabel(\"Number of Episodes\")"
   ]
  },
  {
   "cell_type": "code",
   "execution_count": 7,
   "metadata": {
    "collapsed": false
   },
   "outputs": [
    {
     "name": "stdout",
     "output_type": "stream",
     "text": [
      "Gamma = 0.5 | Actions :  ['Left', 'Exit'] | Reward  2.9699999999999998\n",
      "Gamma = 0.99 | Actions :  ['Right', 'Right', 'Right', 'Right', 'Right', 'Right', 'Right', 'Right', 'Right', 'Right', 'Right', 'Right', 'Right', 'Right', 'Right', 'Right', 'Right', 'Right', 'Exit'] | Reward  3.3380550458003495\n"
     ]
    }
   ],
   "source": [
    "# view learned polices\n",
    "int_to_action = ['Left', 'Right', 'Exit']\n",
    "for agent_index, agent in enumerate(agents):\n",
    "    reward, actions = do_episode(env, agent, epsilon=0.0)\n",
    "    action_words = [int_to_action[a] for a in actions]\n",
    "    print(\"Gamma = \" + str(gammas[agent_index]), \"| Actions : \", action_words, \"| Reward \", reward) \n",
    "    "
   ]
  },
  {
   "cell_type": "code",
   "execution_count": 8,
   "metadata": {
    "collapsed": true
   },
   "outputs": [],
   "source": [
    "# LFA\n",
    "# from keras import backend as K\n",
    "# from keras.layers import Input\n",
    "# from keras.layers.core import Dense\n",
    "# from keras.models import Model\n",
    "# from keras.optimizers import SGD\n",
    "\n",
    "#         self.network = build_network(state_shape, nb_actions)\n",
    "#         self._compile(state_shape, nb_actions)\n",
    "#         state = np.expand_dims(state.reshape(self.state_shape), axis=0)\n",
    "#         s = np.expand_dims(s.reshape(self.state_shape), axis=0)\n",
    "#         s2 = np.expand_dims(s2.reshape(self.state_shape), axis=0)\n",
    "# def build_network(state_shape, nb_actions):\n",
    "#     # shared layers\n",
    "#     input_dim = tuple(state_shape)\n",
    "#     states = Input(shape=input_dim, dtype='float32', name='states')\n",
    "#     out = Dense(output_dim=nb_actions, init='zero', activation='linear', bias='False')(states)\n",
    "#     return Model(input=states, output=out)\n",
    "#     def _compile(self, state_shape, nb_actions):\n",
    "#         # Inputs\n",
    "#         s = K.placeholder(shape=tuple([None] + state_shape))\n",
    "#         a = K.placeholder(ndim=0, dtype='int32')\n",
    "#         r = K.placeholder(ndim=0, dtype='float32')\n",
    "#         s2 = K.placeholder(shape=tuple([None] + state_shape))\n",
    "#         t = K.placeholder(ndim=0, dtype='float32')\n",
    "\n",
    "#         # Q(s, a)\n",
    "#         q = self.network(s)[0]\n",
    "#         preds = q[a]\n",
    "\n",
    "#         # r + (1 - t) * gamma * max_a(Q'(s')) for each agent\n",
    "#         q2 = self.network(s2)[0]\n",
    "#         q2_max = K.max(q2)\n",
    "#         targets = r + (K.cast_to_floatx(1) - t) * K.cast_to_floatx(self.gamma) * q2_max\n",
    "\n",
    "#         # Loss and Updates\n",
    "#         cost = K.sum(0.5 * (targets - preds) ** 2)\n",
    "#         optimizer = SGD(lr=self.lr)\n",
    "#         updates = optimizer.get_updates(params=self.network.trainable_weights, loss=cost, constraints={})\n",
    "\n",
    "#         # Compiled Functions\n",
    "#         self._train = K.function(inputs=[s, a, r, s2, t], outputs=[cost], updates=updates)\n",
    "#         self._predict = K.function(inputs=[s], outputs=q)"
   ]
  }
 ],
 "metadata": {
  "anaconda-cloud": {},
  "kernelspec": {
   "display_name": "Python 3",
   "language": "python",
   "name": "python3"
  },
  "language_info": {
   "codemirror_mode": {
    "name": "ipython",
    "version": 3
   },
   "file_extension": ".py",
   "mimetype": "text/x-python",
   "name": "python",
   "nbconvert_exporter": "python",
   "pygments_lexer": "ipython3",
   "version": "3.5.2"
  }
 },
 "nbformat": 4,
 "nbformat_minor": 1
}
