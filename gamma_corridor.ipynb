{
 "cells": [
  {
   "cell_type": "markdown",
   "metadata": {
    "deletable": true,
    "editable": true
   },
   "source": [
    "## The effect of varying gamma in a simple corridor domain. \n",
    "\n",
    "#### Domain:\n",
    "The corridor has 20 states [0, 1, ... , 19] and the agent starts at index 1. The agent has 3 actions [left, right, exit]. The episode terminates if the agent chooses to exit the corridor, however, the rewward it recieves varies based on the exit point. Exiting at index 0 results in a reward of +1, exiting at index 19 results in a reward of +2, all other exit points result in a reward of -10. \n",
    "\n",
    "#### Methodology:\n",
    "All agents are training with tabular Q learning, with optimistic initialization of 2.0 and a learning rate of 1.0. We compare 2 agents, one with gamma=0.5 and another with gamma=0.99\n",
    "\n",
    "#### Discussion:\n",
    "One can see below that by varying gamma we produce different optimal behavior. The gamma=0.5 (short horizon) agent converges to seek the small reward while the gamma=0.99 (long horizon) agent goes for the larger reward at the end of the corridor. Due to the optimistic initialization, the long horizon agent needs to try to exit the corridor at each state, whereas the short horizon agent does not suffer from this problem as the small positive reward one time step away outweighs any potential distant future reward. Due to this, the short horizon agent outperforms the long horizon agent at the start of training but is surpassed once the long horizon agent has had the chance to try out all possible actions. "
   ]
  },
  {
   "cell_type": "code",
   "execution_count": 1,
   "metadata": {
    "collapsed": false,
    "deletable": true,
    "editable": true
   },
   "outputs": [],
   "source": [
    "import numpy as np\n",
    "\n",
    "class Corridor(object):\n",
    "    def __init__(self, num_states=20, max_steps=50):\n",
    "        self.num_states = num_states\n",
    "        self.state_shape = [num_states]\n",
    "        self.nb_actions = 3\n",
    "        self.state = np.zeros((num_states), dtype='float32')\n",
    "        self.max_steps = max_steps\n",
    "        self.start_pos = 1\n",
    "        self.counter = 0\n",
    "        \n",
    "    def observe(self):\n",
    "        return np.copy(self.state) \n",
    "\n",
    "    def _is_over(self, action):\n",
    "        # exit or max number of steps\n",
    "        return action == 2 or self.counter >= self.max_steps \n",
    "\n",
    "        \n",
    "    def _update_state(self, action):\n",
    "        # no-op\n",
    "        if (action == 0 and self.pos == 0) or (action == 1 and self.pos == self.num_states - 1):  \n",
    "            pass\n",
    "        elif action == 0:  # move left\n",
    "            self.state = np.zeros((self.num_states), dtype='float32')\n",
    "            self.state[self.pos - 1] = 1\n",
    "            self.pos -= 1\n",
    "        elif action == 1:  # move right\n",
    "            self.state = np.zeros((self.num_states), dtype='float32')\n",
    "            self.state[self.pos + 1] = 1\n",
    "            self.pos += 1\n",
    "        elif action == 2:\n",
    "            self.state = np.zeros((self.num_states), dtype='float32')\n",
    "    \n",
    "    def _get_reward(self, action):\n",
    "        if action == 2:\n",
    "            if self.pos == 0:\n",
    "                reward = 1\n",
    "            elif self.pos == self.num_states - 1:\n",
    "                reward = 2\n",
    "            else:\n",
    "                reward = -10 #2 * (self.pos - self.start_pos)\n",
    "        else:\n",
    "            reward = 0.0\n",
    "        return reward\n",
    "    \n",
    "    def act(self, action):\n",
    "        assert action == 0 or action == 1 or action == 2\n",
    "        reward = self._get_reward(action)\n",
    "        self._update_state(action)\n",
    "        game_over = self._is_over(action)\n",
    "        self.counter += 1\n",
    "        # #  \n",
    "        return np.copy(self.state), reward, game_over\n",
    "        \n",
    "    def reset(self):\n",
    "        self.state = np.zeros((self.num_states), dtype='float32')\n",
    "        self.state[self.start_pos] = 1\n",
    "        self.pos = self.start_pos\n",
    "        self.counter = 0"
   ]
  },
  {
   "cell_type": "code",
   "execution_count": 2,
   "metadata": {
    "collapsed": false,
    "deletable": true,
    "editable": true
   },
   "outputs": [],
   "source": [
    "\"\"\"\n",
    "    Tabular Q agent\n",
    "\"\"\"\n",
    "\n",
    "class Agent(object):\n",
    "    def __init__(self, state_shape, nb_actions, gamma, lr=1.0):\n",
    "        self.state_shape = state_shape\n",
    "        self.nb_actions = nb_actions\n",
    "        self.gamma = gamma\n",
    "        self.lr = lr\n",
    "        self.table = np.ones((state_shape[0], nb_actions)) * 2.0\n",
    "    \n",
    "    def _predict(self, state):\n",
    "        return self.table[np.argmax(state[0])]\n",
    "    \n",
    "    def _train(self, sarst):\n",
    "        s, a, r, s2, t = sarst\n",
    "        q = self.table[np.argmax(s)][a]\n",
    "        target = r + (1 - t) * self.gamma * np.max(self.table[np.argmax(s2)])\n",
    "        self.table[np.argmax(s)][a] += self.lr * (target - q)\n",
    "\n",
    "    def get_action(self, state, epsilon):\n",
    "        if np.random.binomial(1, epsilon):\n",
    "            return np.random.randint(self.nb_actions)\n",
    "        else:\n",
    "            q = self._predict([state])\n",
    "            return np.argmax(q)\n",
    "\n",
    "    def learn(self, s, a, r, s2, t):\n",
    "        return self._train([s, a, r, s2, t])"
   ]
  },
  {
   "cell_type": "code",
   "execution_count": 3,
   "metadata": {
    "collapsed": false,
    "deletable": true,
    "editable": true,
    "scrolled": true
   },
   "outputs": [],
   "source": [
    "\"\"\"\n",
    "    Global imports and variables\n",
    "\"\"\"\n",
    "\n",
    "%matplotlib inline\n",
    "\n",
    "import numpy as np\n",
    "import seaborn\n",
    "import pickle\n",
    "\n",
    "nb_runs_each = 1\n",
    "nb_episodes = 50\n",
    "gammas = [0.5, 0.99]\n",
    "epsilon = 0.0"
   ]
  },
  {
   "cell_type": "code",
   "execution_count": 4,
   "metadata": {
    "collapsed": false,
    "deletable": true,
    "editable": true
   },
   "outputs": [],
   "source": [
    "\"\"\"\n",
    "    Runs each agent defined by a particular gamma -\n",
    "    for a fixed number of episodes (\"nb_episodes\"). \n",
    "    Each run is repeated \"nb_runs_each\" times to compute some measure of variance.\n",
    "\"\"\"\n",
    "\n",
    "env = Corridor()\n",
    "agents = [Agent(env.state_shape, env.nb_actions, gamma) for gamma in gammas]\n",
    "all_agent_cumul_rewards = np.empty((nb_runs_each, nb_episodes, len(agents)))\n",
    "all_agent_ep_rewards = np.empty((nb_runs_each, nb_episodes, len(agents)))\n",
    "\n",
    "def do_episode(env, agent, epsilon=1.0, learn=True):\n",
    "    env.reset()\n",
    "    terminal = False\n",
    "    reward = 0\n",
    "    actions = []\n",
    "    discount = 1\n",
    "    gamma = 0.99\n",
    "    while not terminal:\n",
    "        s = env.observe()\n",
    "        a = agent.get_action(s, epsilon=epsilon)\n",
    "        s2, r, terminal = env.act(a)\n",
    "        if learn:\n",
    "            agent.learn(s, a, r, s2, terminal)\n",
    "        reward += r * discount\n",
    "        discount *= gamma\n",
    "        actions.append(a)\n",
    "    return reward, actions\n",
    "    \n",
    "for agent_index, agent in enumerate(agents):\n",
    "    for run in range(nb_runs_each):\n",
    "        cumul_rewards = 0\n",
    "        for ep in range(nb_episodes):\n",
    "            ep_reward, _ = do_episode(env, agent, epsilon, learn=True)\n",
    "            cumul_rewards += ep_reward\n",
    "            all_agent_cumul_rewards[run, ep, agent_index] = cumul_rewards\n",
    "            all_agent_ep_rewards[run, ep, agent_index] = ep_reward\n",
    "            \n",
    "with open('cumul_rewards', 'wb') as f:\n",
    "    pickle.dump(all_agent_cumul_rewards, f)\n",
    "with open('ep_rewards', 'wb') as f:\n",
    "    pickle.dump(all_agent_ep_rewards, f)"
   ]
  },
  {
   "cell_type": "code",
   "execution_count": 5,
   "metadata": {
    "collapsed": false,
    "deletable": true,
    "editable": true
   },
   "outputs": [
    {
     "data": {
      "text/plain": [
       "<matplotlib.text.Text at 0x1dd81054908>"
      ]
     },
     "execution_count": 5,
     "metadata": {},
     "output_type": "execute_result"
    },
    {
     "data": {
      "image/png": "[encoded data removed]",
      "text/plain": [
       "<matplotlib.figure.Figure at 0x1ddfde8b940>"
      ]
     },
     "metadata": {},
     "output_type": "display_data"
    }
   ],
   "source": [
    "with open('cumul_rewards', 'rb') as f:\n",
    "     all_agent_cumul_rewards = pickle.load(f)\n",
    "\n",
    "plot = seaborn.tsplot(data=all_agent_cumul_rewards, legend=True, condition=gammas)\n",
    "plot.legend(loc='lower left', title='Gamma')\n",
    "plot.set_ylabel(\"Cummulative Reward\")\n",
    "plot.set_xlabel(\"Number of Episodes\")"
   ]
  },
  {
   "cell_type": "code",
   "execution_count": 6,
   "metadata": {
    "collapsed": false,
    "deletable": true,
    "editable": true
   },
   "outputs": [
    {
     "data": {
      "text/plain": [
       "<matplotlib.text.Text at 0x1dd81441160>"
      ]
     },
     "execution_count": 6,
     "metadata": {},
     "output_type": "execute_result"
    },
    {
     "data": {
      "image/png": "[encoded data removed]",
      "text/plain": [
       "<matplotlib.figure.Figure at 0x1dd81014ef0>"
      ]
     },
     "metadata": {},
     "output_type": "display_data"
    }
   ],
   "source": [
    "with open('ep_rewards', 'rb') as f:\n",
    "     all_agent_ep_rewards = pickle.load(f)\n",
    "        \n",
    "plot = seaborn.tsplot(data=all_agent_ep_rewards, legend=True, condition=gammas)\n",
    "plot.legend(loc='lower left', title='Gamma')\n",
    "plot.set_ylabel(\"Discounted Episode Reward\")\n",
    "plot.set_xlabel(\"Number of Episodes\")"
   ]
  },
  {
   "cell_type": "code",
   "execution_count": 7,
   "metadata": {
    "collapsed": false,
    "deletable": true,
    "editable": true
   },
   "outputs": [
    {
     "name": "stdout",
     "output_type": "stream",
     "text": [
      "Gamma = 0.5 | Actions :  ['Left', 'Exit'] | Reward  0.99\n",
      "Gamma = 0.99 | Actions :  ['Right', 'Right', 'Right', 'Right', 'Right', 'Right', 'Right', 'Right', 'Right', 'Right', 'Right', 'Right', 'Right', 'Right', 'Right', 'Right', 'Right', 'Right', 'Exit'] | Reward  1.6690275229001748\n"
     ]
    }
   ],
   "source": [
    "# view learned polices\n",
    "int_to_action = ['Left', 'Right', 'Exit']\n",
    "for agent_index, agent in enumerate(agents):\n",
    "    reward, actions = do_episode(env, agent, epsilon=0.0)\n",
    "    action_words = [int_to_action[a] for a in actions]\n",
    "    print(\"Gamma = \" + str(gammas[agent_index]), \"| Actions : \", action_words, \"| Reward \", reward) \n",
    "    "
   ]
  }
 ],
 "metadata": {
  "anaconda-cloud": {},
  "kernelspec": {
   "display_name": "Python 3",
   "language": "python",
   "name": "python3"
  },
  "language_info": {
   "codemirror_mode": {
    "name": "ipython",
    "version": 3
   },
   "file_extension": ".py",
   "mimetype": "text/x-python",
   "name": "python",
   "nbconvert_exporter": "python",
   "pygments_lexer": "ipython3",
   "version": "3.5.3"
  }
 },
 "nbformat": 4,
 "nbformat_minor": 1
}
